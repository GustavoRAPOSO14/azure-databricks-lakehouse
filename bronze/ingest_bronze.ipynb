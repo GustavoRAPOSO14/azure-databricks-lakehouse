{
 "cells": [
  {
   "cell_type": "markdown",
   "metadata": {},
   "source": [
    "Import Libraries"
   ]
  },
  {
   "cell_type": "code",
   "execution_count": null,
   "metadata": {},
   "outputs": [],
   "source": [
    "from pyspark.sql.functions import col, current_timestamp, expr"
   ]
  },
  {
   "cell_type": "code",
   "execution_count": null,
   "metadata": {},
   "outputs": [],
   "source": [
    "Capture Synapse Variables"
   ]
  },
  {
   "cell_type": "code",
   "execution_count": null,
   "metadata": {},
   "outputs": [],
   "source": [
    "vDay                    = dbutils.widgets.get(\"pDay\")\n",
    "vMonth                  = dbutils.widgets.get(\"pMonth\")\n",
    "vYear                   = dbutils.widgets.get(\"pYear\")\n",
    "vContainer              = dbutils.widgets.get(\"pContainer\")\n",
    "vStorageAccountName     = dbutils.widgets.get(\"pStorageAccountName\")\n",
    "vDatabase               = dbutils.widgets.get(\"pDatabase\")\n",
    "vDatabaseName           = dbutils.widgets.get(\"pDatabaseName\")\n",
    "vSchemaName             = dbutils.widgets.get(\"pSchemaName\")\n",
    "vTableName              = dbutils.widgets.get(\"pTableName\")\n",
    "vLayer                  = dbutils.widgets.get(\"pLayer\")"
   ]
  },
  {
   "cell_type": "code",
   "execution_count": null,
   "metadata": {},
   "outputs": [],
   "source": [
    "# vDay                    = \"30\"\n",
    "# vMonth                  = \"10\"\n",
    "# vYear                   = \"2024\"\n",
    "# vContainer              = \"raw\"\n",
    "# vStorageAccountName     = \"stgeusproddata01\"\n",
    "# vDatabase               = \"sqlserver\"\n",
    "# vDatabaseName           = \"FCSCDC\"\n",
    "# vSchemaName             = \"dbo\"\n",
    "# vTableName              = \"EPEND\"\n",
    "# vLayer                  = \"bronze\""
   ]
  },
  {
   "cell_type": "markdown",
   "metadata": {},
   "source": [
    "Mount ADLS"
   ]
  },
  {
   "cell_type": "code",
   "execution_count": null,
   "metadata": {},
   "outputs": [],
   "source": [
    "spark.conf.set(f\"fs.azure.account.key.{vStorageAccountName}.dfs.core.windows.net\",\n",
    "                dbutils.secrets.get(scope = \"key-vault-secrets\", key = \"token-storage-datalake\"))\n",
    "\n",
    "display(dbutils.fs.ls(f\"abfss://{vContainer}@{vStorageAccountName}.dfs.core.windows.net/{vDatabase}/{vDatabaseName}/{vSchemaName}/{vTableName}/{vYear}/{vMonth}/{vDay}\"))"
   ]
  },
  {
   "cell_type": "markdown",
   "metadata": {},
   "source": [
    "Read Parquet File"
   ]
  },
  {
   "cell_type": "code",
   "execution_count": null,
   "metadata": {},
   "outputs": [],
   "source": [
    "local_path = f\"abfss://{vContainer}@{vStorageAccountName}.dfs.core.windows.net/{vDatabase}/{vDatabaseName}/{vSchemaName}/{vTableName}/{vYear}/{vMonth}/{vDay}\"\n",
    "\n",
    "df = spark.read.parquet(f\"{local_path}/{vTableName}.parquet\")\n",
    "\n",
    "df_count = df.count()"
   ]
  },
  {
   "cell_type": "markdown",
   "metadata": {},
   "source": [
    "Exit command if parquet if empty"
   ]
  },
  {
   "cell_type": "code",
   "execution_count": null,
   "metadata": {},
   "outputs": [],
   "source": [
    "if df_count == 0:\n",
    "    dbutils.notebook.exit(\"Succeeded\")"
   ]
  },
  {
   "cell_type": "markdown",
   "metadata": {},
   "source": [
    "Change SYS_CHANGE_VERSION and SYS_CHANGE_CREATION_VERSION to INT datatype"
   ]
  },
  {
   "cell_type": "code",
   "execution_count": null,
   "metadata": {},
   "outputs": [],
   "source": [
    "df = df.withColumn(\"SYS_CHANGE_VERSION\", col(\"SYS_CHANGE_VERSION\").cast(\"int\")).withColumn(\"SYS_CHANGE_CREATION_VERSION\", col(\"SYS_CHANGE_CREATION_VERSION\").cast(\"int\"))"
   ]
  },
  {
   "cell_type": "markdown",
   "metadata": {},
   "source": [
    "Add PARTITION_TIME column inside dataframe"
   ]
  },
  {
   "cell_type": "code",
   "execution_count": null,
   "metadata": {},
   "outputs": [],
   "source": [
    "df = df.withColumn(\"PARTITION_TIME\", expr(\"current_timestamp() - INTERVAL 3 HOURS\"))"
   ]
  },
  {
   "cell_type": "markdown",
   "metadata": {},
   "source": [
    "Save dataframe to delta table inside bronze layer"
   ]
  },
  {
   "cell_type": "code",
   "execution_count": null,
   "metadata": {},
   "outputs": [],
   "source": [
    "df.write.format(\"delta\").partitionBy(\"PARTITION_TIME\").mode(\"append\").option(\"mergeSchema\", \"true\").saveAsTable(f\"{vLayer}_{vDatabaseName}.{vTableName}\")"
   ]
  },
  {
   "cell_type": "markdown",
   "metadata": {},
   "source": [
    "Display lines delta table of bronze layer"
   ]
  },
  {
   "cell_type": "code",
   "execution_count": null,
   "metadata": {},
   "outputs": [],
   "source": [
    "query = f\"SELECT * FROM {vLayer}_{vDatabaseName}.{vTableName} LIMIT 10\"\n",
    "display_query = spark.sql(query)\n",
    "display(display_query)"
   ]
  }
 ],
 "metadata": {
  "language_info": {
   "name": "python"
  }
 },
 "nbformat": 4,
 "nbformat_minor": 2
}
